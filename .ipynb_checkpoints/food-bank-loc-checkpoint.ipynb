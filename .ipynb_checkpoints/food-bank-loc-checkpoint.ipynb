{
 "cells": [
  {
   "cell_type": "markdown",
   "metadata": {},
   "source": [
    "# Where should the Next Mid-Ohio Foodbank Panty Be Locatated? "
   ]
  },
  {
   "cell_type": "markdown",
   "metadata": {},
   "source": [
    "Outline:\n",
    "- Import panty location data from ____\n",
    "- Import customer location data from pt_families\n",
    "- Import census data (identify potential customers with qualifying - actual)\n",
    "- Plot a map of central Ohio\n",
    "- Write county lines on Ohio map\n",
    "- Plot pantry location on Ohio map\n",
    "- Plot existing customers on Ohio map\n",
    "- Show proportions of qualifying vs actual customers on county map"
   ]
  },
  {
   "cell_type": "code",
   "execution_count": null,
   "metadata": {},
   "outputs": [],
   "source": [
    "import pandas as pd\n",
    "import folium\n",
    "import os\n",
    "from geopy.geocoders import Nominatim\n",
    "os.getcwd()"
   ]
  },
  {
   "cell_type": "markdown",
   "metadata": {},
   "source": [
    "## Import Data"
   ]
  },
  {
   "cell_type": "markdown",
   "metadata": {},
   "source": [
    "### Import Ohio Foodbank Pantry Locations"
   ]
  },
  {
   "cell_type": "code",
   "execution_count": null,
   "metadata": {},
   "outputs": [],
   "source": [
    "pantry_df = pd.read_csv('food-bank-loc/locations.csv')\n",
    "pantry_df.head()"
   ]
  },
  {
   "cell_type": "code",
   "execution_count": null,
   "metadata": {},
   "outputs": [],
   "source": [
    "pantry_df.columns"
   ]
  },
  {
   "cell_type": "code",
   "execution_count": null,
   "metadata": {},
   "outputs": [],
   "source": [
    "pantry_loc_df = pantry_df[['loc_id', 'loc_num','loc_nickname',\n",
    "                          'address1', 'city', 'state', 'zip',\n",
    "                          'county', 'latitude', 'longitude',\n",
    "                          'pt_latitude', 'pt_longitude',\n",
    "                          'census_block', 'census_tract']]\n",
    "pantry_loc_df"
   ]
  },
  {
   "cell_type": "code",
   "execution_count": null,
   "metadata": {},
   "outputs": [],
   "source": [
    "pantry_latlong = pantry_loc_df[['loc_nickname', 'latitude', 'longitude']]\n",
    "pantry_latlong"
   ]
  },
  {
   "cell_type": "markdown",
   "metadata": {},
   "source": [
    "### Create a Map of Central Ohio"
   ]
  },
  {
   "cell_type": "code",
   "execution_count": null,
   "metadata": {},
   "outputs": [],
   "source": [
    "# Get the coordinates for the City of Columbus (for folium)\n",
    "address = \"Columbus\"\n",
    "geolocator = Nominatim(user_agent=\"columbus\")\n",
    "location = geolocator.geocode(address)\n",
    "latitude = location.latitude\n",
    "longitude = location.longitude\n",
    "print('The coordinates for the City of Columbus are {}, {}.'.format(latitude, longitude))"
   ]
  },
  {
   "cell_type": "code",
   "execution_count": null,
   "metadata": {},
   "outputs": [],
   "source": [
    "# Create a folium map around the coordinates of the city\n",
    "map_columbus = folium.Map(location=[latitude, longitude], zoom_start=10.5)\n",
    "\n",
    "# Create a tags on each pantry\n",
    "for pantry_name, lat, long in zip(pantry_latlong['loc_nickname'], pantry_latlong['latitude'], pantry_latlong['longitude']):\n",
    "    label = pantry_name\n",
    "    label = folium.Popup(label, parse_html=True)\n",
    "    folium.CircleMarker([lat, long],\n",
    "                        radius=5,\n",
    "                        popup=label,\n",
    "                        color='blue',\n",
    "                        fill=True,\n",
    "                        fill_opacity=0.1,\n",
    "                        parse_html=False).add_to(map_columbus)  \n",
    "\n",
    "map_columbus"
   ]
  }
 ],
 "metadata": {
  "kernelspec": {
   "display_name": "Python 3",
   "language": "python",
   "name": "python3"
  },
  "language_info": {
   "codemirror_mode": {
    "name": "ipython",
    "version": 3
   },
   "file_extension": ".py",
   "mimetype": "text/x-python",
   "name": "python",
   "nbconvert_exporter": "python",
   "pygments_lexer": "ipython3",
   "version": "3.7.0"
  }
 },
 "nbformat": 4,
 "nbformat_minor": 2
}
